{
 "cells": [
  {
   "cell_type": "code",
   "execution_count": 1,
   "metadata": {},
   "outputs": [
    {
     "name": "stdout",
     "output_type": "stream",
     "text": [
      "3\n",
      "7 8 10 3 2 9 1 4 8 17 -1 8 3 9 2 2 10\n",
      "B-7,S-10 (+16)\n"
     ]
    }
   ],
   "source": [
    "capital = int(input())\n",
    "prices = input()\n",
    "\n",
    "def invest(capital,prices):    \n",
    "    prices = prices.split()\n",
    "    i = 0\n",
    "    b = 0\n",
    "    s = 0\n",
    "    r = 0\n",
    "            \n",
    "    if capital == -1:\n",
    "        pass\n",
    "    \n",
    "    elif len(prices) < 2:\n",
    "        \n",
    "        print('Error stock list')\n",
    "    \n",
    "    else:       \n",
    "        while i < len(prices):\n",
    "            \n",
    "            if capital >= int(prices[i]):\n",
    "                for j in range(i+1,len(prices)):\n",
    "                    if int(prices[j]) - int(prices[i]) > r:\n",
    "                        r = int(prices[j]) - int(prices[i])\n",
    "                        b = i\n",
    "                        s = j\n",
    "                    \n",
    "            i += 1\n",
    "        \n",
    "        if r == 0:\n",
    "            print('No profit:(')\n",
    "        else:\n",
    "            print(f'B-{b+1:.0f},S-{s+1:.0f} (+{r:.0f})')\n",
    "\n",
    "if __name__ == \"__main__\":\n",
    "    invest(capital,prices)"
   ]
  },
  {
   "cell_type": "code",
   "execution_count": null,
   "metadata": {},
   "outputs": [],
   "source": []
  }
 ],
 "metadata": {
  "kernelspec": {
   "display_name": "Python 3",
   "language": "python",
   "name": "python3"
  },
  "language_info": {
   "codemirror_mode": {
    "name": "ipython",
    "version": 3
   },
   "file_extension": ".py",
   "mimetype": "text/x-python",
   "name": "python",
   "nbconvert_exporter": "python",
   "pygments_lexer": "ipython3",
   "version": "3.8.3"
  }
 },
 "nbformat": 4,
 "nbformat_minor": 4
}
