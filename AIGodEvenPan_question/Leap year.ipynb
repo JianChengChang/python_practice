{
 "cells": [
  {
   "cell_type": "markdown",
   "metadata": {},
   "source": [
    "# Leap year\n",
    "Given the year number. You need to check if this year is a leap year. If it is, print LEAP, otherwise print COMMON.\n",
    "The rules in Gregorian calendar are as follows:\n",
    "\n",
    "a year is a leap year if its number is exactly divisible by 4 and is not exactly divisible by 100\n",
    "a year is always a leap year if its number is exactly divisible by 400\n",
    "Warning. The words LEAP and COMMON should be printed all caps.\n",
    "\n",
    "https://snakify.org/en/lessons/if_then_else_conditions/problems/leap_year/"
   ]
  },
  {
   "cell_type": "code",
   "execution_count": 1,
   "metadata": {},
   "outputs": [
    {
     "name": "stdout",
     "output_type": "stream",
     "text": [
      "2012\n",
      "LEAP\n"
     ]
    }
   ],
   "source": [
    "y = int(input())\n",
    "\n",
    "if (y % 4 == 0 and y % 100 != 0) or y % 400 == 0:\n",
    "    print(\"LEAP\")\n",
    "else:\n",
    "    print(\"COMMON\")"
   ]
  },
  {
   "cell_type": "code",
   "execution_count": null,
   "metadata": {},
   "outputs": [],
   "source": []
  }
 ],
 "metadata": {
  "kernelspec": {
   "display_name": "Python 3",
   "language": "python",
   "name": "python3"
  },
  "language_info": {
   "codemirror_mode": {
    "name": "ipython",
    "version": 3
   },
   "file_extension": ".py",
   "mimetype": "text/x-python",
   "name": "python",
   "nbconvert_exporter": "python",
   "pygments_lexer": "ipython3",
   "version": "3.7.4"
  }
 },
 "nbformat": 4,
 "nbformat_minor": 2
}
