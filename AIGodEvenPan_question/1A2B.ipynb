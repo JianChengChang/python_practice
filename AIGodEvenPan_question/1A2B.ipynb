{
 "cells": [
  {
   "cell_type": "markdown",
   "metadata": {},
   "source": [
    "這是1A2B遊戲，遊戲規則為\n",
    "\n",
    "先輸入4位數\n",
    "\n",
    "每位數字如果與答案一樣且位置一樣 則獲得一個A\n",
    "\n",
    "每位數字如果與答案一樣但位置不一樣 則獲得一個B"
   ]
  },
  {
   "cell_type": "markdown",
   "metadata": {},
   "source": [
    "首先利用亂數產生答案 (不要偷print看答案)"
   ]
  },
  {
   "cell_type": "code",
   "execution_count": null,
   "metadata": {},
   "outputs": [],
   "source": [
    "from random import randint\n",
    "\n",
    "a = randint(0,9)\n",
    "\n",
    "b = randint(0,9)\n",
    "while b == a:\n",
    "    b = randint(0,9)\n",
    "\n",
    "c = randint(0,9)\n",
    "while c == a or c == b:\n",
    "    c = randint(0,9)\n",
    "\n",
    "d = randint(0,9)\n",
    "while d == a or d == b or d == c:\n",
    "    d = randint(0,9)\n",
    "    \n",
    "ans = str(a)+str(b)+str(c)+str(d)\n"
   ]
  },
  {
   "cell_type": "markdown",
   "metadata": {},
   "source": [
    "清掉a b c d 四個變數"
   ]
  },
  {
   "cell_type": "code",
   "execution_count": null,
   "metadata": {},
   "outputs": [],
   "source": [
    "del(a,b,c,d)"
   ]
  },
  {
   "cell_type": "markdown",
   "metadata": {},
   "source": [
    "開始猜謎囉 !"
   ]
  },
  {
   "cell_type": "code",
   "execution_count": null,
   "metadata": {},
   "outputs": [],
   "source": [
    "a = 0\n",
    "b = 0\n",
    "\n",
    "while a < 4:\n",
    "    \n",
    "    a = 0\n",
    "    b = 0\n",
    "    \n",
    "    user = input('請輸入四個不同數字 : ') \n",
    "    \n",
    "    if (user[0] not in user[1:4]) and (user[1] not in user[2:4]) and (user[2] != user[3]):\n",
    "        \n",
    "        for i in range(0,4):\n",
    "        \n",
    "            if user[i] == ans[i] :\n",
    "                a += 1\n",
    "            elif user[i] in ans:\n",
    "                b += 1\n",
    "            else:\n",
    "                a = a\n",
    "                b = b\n",
    "\n",
    "        print(f'{a:.0f}A{b:.0f}B')\n",
    "\n",
    "        if a == 4:\n",
    "            print('遊戲結束!')\n",
    "        \n",
    "    else:\n",
    "        print('數字有重複,請重新輸入')\n",
    "    "
   ]
  },
  {
   "cell_type": "code",
   "execution_count": null,
   "metadata": {},
   "outputs": [],
   "source": []
  }
 ],
 "metadata": {
  "kernelspec": {
   "display_name": "Python 3",
   "language": "python",
   "name": "python3"
  },
  "language_info": {
   "codemirror_mode": {
    "name": "ipython",
    "version": 3
   },
   "file_extension": ".py",
   "mimetype": "text/x-python",
   "name": "python",
   "nbconvert_exporter": "python",
   "pygments_lexer": "ipython3",
   "version": "3.7.9"
  }
 },
 "nbformat": 4,
 "nbformat_minor": 2
}
