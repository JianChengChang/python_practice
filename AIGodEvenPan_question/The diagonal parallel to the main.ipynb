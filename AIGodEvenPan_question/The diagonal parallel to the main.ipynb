{
 "cells": [
  {
   "cell_type": "markdown",
   "metadata": {},
   "source": [
    "# The diagonal parallel to the main\n",
    "\n",
    "Given an integer n, produce a two-dimensional array of size (n×n) and complete it according to the following rules, and print with a single space between characters:\n",
    "On the main diagonal write 0 .\n",
    "On the diagonals adjacent to the main, write 1 .\n",
    "On the next adjacent diagonals write 2 and so forth.\n",
    "    \n",
    "   https://snakify.org/en/lessons/two_dimensional_lists_arrays/problems/diagonals/"
   ]
  },
  {
   "cell_type": "raw",
   "metadata": {},
   "source": [
    "# My answer"
   ]
  },
  {
   "cell_type": "code",
   "execution_count": 10,
   "metadata": {},
   "outputs": [
    {
     "name": "stdout",
     "output_type": "stream",
     "text": [
      "10\n",
      "0 1 2 3 4 5 6 7 8 9\n",
      "1 0 1 2 3 4 5 6 7 8\n",
      "2 1 0 1 2 3 4 5 6 7\n",
      "3 2 1 0 1 2 3 4 5 6\n",
      "4 3 2 1 0 1 2 3 4 5\n",
      "5 4 3 2 1 0 1 2 3 4\n",
      "6 5 4 3 2 1 0 1 2 3\n",
      "7 6 5 4 3 2 1 0 1 2\n",
      "8 7 6 5 4 3 2 1 0 1\n",
      "9 8 7 6 5 4 3 2 1 0\n"
     ]
    }
   ],
   "source": [
    "n = int(input())\n",
    "a = [[0] * n for i in range(n)]\n",
    "for i in range(n):\n",
    "    for j in range(n):\n",
    "        if i == j:\n",
    "            a[i][j] = 0\n",
    "        else:\n",
    "            a[i][j] = abs(i-j)\n",
    "for row in a:\n",
    "    print(' '.join([str(elem) for elem in row]))"
   ]
  },
  {
   "cell_type": "raw",
   "metadata": {},
   "source": [
    "# The Best Answer"
   ]
  },
  {
   "cell_type": "code",
   "execution_count": 9,
   "metadata": {},
   "outputs": [
    {
     "name": "stdout",
     "output_type": "stream",
     "text": [
      "10\n",
      "0 1 2 3 4 5 6 7 8 9\n",
      "1 0 1 2 3 4 5 6 7 8\n",
      "2 1 0 1 2 3 4 5 6 7\n",
      "3 2 1 0 1 2 3 4 5 6\n",
      "4 3 2 1 0 1 2 3 4 5\n",
      "5 4 3 2 1 0 1 2 3 4\n",
      "6 5 4 3 2 1 0 1 2 3\n",
      "7 6 5 4 3 2 1 0 1 2\n",
      "8 7 6 5 4 3 2 1 0 1\n",
      "9 8 7 6 5 4 3 2 1 0\n"
     ]
    }
   ],
   "source": [
    "n = int(input())\n",
    "a = [[abs(i - j) for j in range(n)] for i in range(n)]\n",
    "for row in a:\n",
    "    print(' '.join([str(i) for i in row]))"
   ]
  },
  {
   "cell_type": "code",
   "execution_count": null,
   "metadata": {},
   "outputs": [],
   "source": []
  }
 ],
 "metadata": {
  "kernelspec": {
   "display_name": "Python 3",
   "language": "python",
   "name": "python3"
  },
  "language_info": {
   "codemirror_mode": {
    "name": "ipython",
    "version": 3
   },
   "file_extension": ".py",
   "mimetype": "text/x-python",
   "name": "python",
   "nbconvert_exporter": "python",
   "pygments_lexer": "ipython3",
   "version": "3.7.4"
  }
 },
 "nbformat": 4,
 "nbformat_minor": 2
}
