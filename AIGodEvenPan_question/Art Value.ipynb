{
 "cells": [
  {
   "cell_type": "code",
   "execution_count": null,
   "metadata": {},
   "outputs": [],
   "source": [
    "files = input()\n",
    "\n",
    "def art_value(files):\n",
    "    \n",
    "    import pandas as pd\n",
    "    \n",
    "    paths = \"D:\\\\94. Python\\\\jupyter\\\\Python考題\\\\Problem04(藝術投資-讀檔判斷)\" + \"\\\\\" + files\n",
    "    \n",
    "    art = pd.read_csv(paths)\n",
    "    art['Revenue'] = art['MarketValue'] - art['Cost']\n",
    "    art['Revenue%'] = round(art['Revenue'] / art['Cost'] * 100,1)\n",
    "    \n",
    "    for i in range(0,len(art)):\n",
    "        if art.loc[i,'Revenue%'] <= -7:\n",
    "            print('%6.1f' % art.loc[i,'Revenue%'],end=\"\")\n",
    "            print(\"%\", end=\" \")\n",
    "            print(\"dispose\")\n",
    "        elif art.loc[i,'Revenue%'] >= 10:\n",
    "            print('%6.1f' % art.loc[i,'Revenue%'],end=\"\")\n",
    "            print(\"%\", end=\" \")\n",
    "            print(\"dispose\")\n",
    "        else:\n",
    "            print('%6.1f' % art.loc[i,'Revenue%'],end=\"\")\n",
    "            print(\"%\", end=\" \")\n",
    "            print(\"keep\")\n",
    "    \n",
    "    t = art['Revenue'].sum()\n",
    "    print(f' Total profit: {t:.0f} thousands')    \n",
    "\n",
    "if __name__ == \"__main__\":\n",
    "    art_value(files)"
   ]
  }
 ],
 "metadata": {
  "kernelspec": {
   "display_name": "Python 3",
   "language": "python",
   "name": "python3"
  },
  "language_info": {
   "codemirror_mode": {
    "name": "ipython",
    "version": 3
   },
   "file_extension": ".py",
   "mimetype": "text/x-python",
   "name": "python",
   "nbconvert_exporter": "python",
   "pygments_lexer": "ipython3",
   "version": "3.8.3"
  }
 },
 "nbformat": 4,
 "nbformat_minor": 4
}
