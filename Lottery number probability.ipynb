{
 "cells": [
  {
   "cell_type": "code",
   "execution_count": 2,
   "id": "2ccfe1c2",
   "metadata": {},
   "outputs": [],
   "source": [
    "import requests\n",
    "import time\n",
    "from numpy import random\n",
    "from bs4 import BeautifulSoup\n",
    "from collections import Counter"
   ]
  },
  {
   "cell_type": "code",
   "execution_count": 3,
   "id": "5f1f4363",
   "metadata": {},
   "outputs": [],
   "source": [
    "area1 = []\n",
    "area2 = []"
   ]
  },
  {
   "cell_type": "code",
   "execution_count": 5,
   "id": "57533cc3",
   "metadata": {},
   "outputs": [],
   "source": [
    "k = 1\n",
    "while k <= 100:\n",
    "    url = 'https://www.pilio.idv.tw/lto/list.asp?indexpage=' + str(k) +'&orderby=new'\n",
    "    html = requests.get(url)\n",
    "    html.encoding = 'utf-8'\n",
    "\n",
    "    # 檢查HTTP回應碼是否為200(requests.codes.ok)\n",
    "    if html.status_code == requests.codes.ok:\n",
    "        sp = BeautifulSoup(html.text,'lxml')\n",
    "        datas = sp.find_all('td',{'style':'font-size: 5vmin; font-weight: bold; color: #000000;border-bottom-style: dotted; border-bottom-color: #CCCCCC;text-align:center;padding:0px;vertical-align:middle'})\n",
    "        datas = [i.text.replace('\\r\\n','').replace(' ','').replace('\\xa0','') for i in datas]\n",
    "        data_area1 = [datas[i] for i in range(len(datas)) if i % 2 == 0]\n",
    "        data_area1 = [i.split(',') for i in data_area1]\n",
    "        data_area1 = [i for item in data_area1 for i in item]\n",
    "        data_area1.sort()\n",
    "        data_area2 = [datas[i] for i in range(len(datas)) if i % 2 == 1]\n",
    "        data_area2.sort()\n",
    "\n",
    "        area1.extend(data_area1)\n",
    "        area2.extend(data_area2)\n",
    "        k += 1\n",
    "\n",
    "    time.sleep(random.uniform(3,7))"
   ]
  },
  {
   "cell_type": "code",
   "execution_count": 8,
   "id": "722e006c",
   "metadata": {},
   "outputs": [],
   "source": [
    "area1_counter = Counter(area1)\n",
    "area2_counter = Counter(area2)"
   ]
  },
  {
   "cell_type": "code",
   "execution_count": 26,
   "id": "ba40d356",
   "metadata": {},
   "outputs": [],
   "source": [
    "the_unusual_num_area1 = sorted(area1_counter, key=area1_counter.get, reverse=False)[:6]\n",
    "the_common_num_area1 = sorted(area1_counter, key=area1_counter.get, reverse=True)[:6]\n",
    "the_unusual_num_area2 = sorted(area2_counter, key=area2_counter.get, reverse=False)[0]\n",
    "the_common_num_area2 = sorted(area2_counter, key=area2_counter.get, reverse=True)[0]\n",
    "\n",
    "the_unusual_num_area1.sort()\n",
    "the_common_num_area1.sort()"
   ]
  },
  {
   "cell_type": "code",
   "execution_count": 27,
   "id": "d28c34c1",
   "metadata": {},
   "outputs": [
    {
     "name": "stdout",
     "output_type": "stream",
     "text": [
      "The unusual num for area1 : ['12', '17', '21', '30', '31', '32']\n",
      "The common num for area1 : ['06', '16', '22', '23', '26', '36']\n",
      "\n",
      "\n",
      "The unusual num for area2 : 07\n",
      "The common num for area2 : 05\n"
     ]
    }
   ],
   "source": [
    "print(f'The unusual num for area1 : {the_unusual_num_area1}')\n",
    "print(f'The common num for area1 : {the_common_num_area1}')\n",
    "print('\\n')\n",
    "print(f'The unusual num for area2 : {the_unusual_num_area2}')\n",
    "print(f'The common num for area2 : {the_common_num_area2}')"
   ]
  },
  {
   "cell_type": "code",
   "execution_count": 172,
   "id": "35a350c8",
   "metadata": {},
   "outputs": [],
   "source": [
    "class Pmf(Counter):\n",
    "    \n",
    "    def normalize(self):\n",
    "        total = float(sum(self.values()))\n",
    "        for key in self:\n",
    "            self[key] = self[key]/total"
   ]
  },
  {
   "cell_type": "code",
   "execution_count": 173,
   "id": "873647c4",
   "metadata": {},
   "outputs": [],
   "source": [
    "lottery_area1 = Pmf(area1)\n",
    "lottery_area1.normalize()\n",
    "lottery_area2 = Pmf(area2)\n",
    "lottery_area2.normalize()"
   ]
  },
  {
   "cell_type": "code",
   "execution_count": 174,
   "id": "47812957",
   "metadata": {},
   "outputs": [],
   "source": [
    "num_area1 = list(lottery_area1.keys())\n",
    "prob_area1 = list(lottery_area1.values())\n",
    "\n",
    "num_area2 = list(lottery_area2.keys())\n",
    "prob_area2 = list(lottery_area2.values())"
   ]
  },
  {
   "cell_type": "code",
   "execution_count": 179,
   "id": "468cacc3",
   "metadata": {},
   "outputs": [
    {
     "name": "stdout",
     "output_type": "stream",
     "text": [
      "['08', '16', '21', '26', '27', '36']\n"
     ]
    }
   ],
   "source": [
    "choice_6_num = random.choice(num_area1, size=(1,6), p=prob_area1, replace = False).tolist()[0]\n",
    "choice_6_num.sort()\n",
    "print(choice_6_num)"
   ]
  },
  {
   "cell_type": "code",
   "execution_count": 180,
   "id": "7188234b",
   "metadata": {},
   "outputs": [
    {
     "name": "stdout",
     "output_type": "stream",
     "text": [
      "04\n"
     ]
    }
   ],
   "source": [
    "choice_1_num = random.choice(num_area2, p=prob_area2, replace = False).tolist()\n",
    "print(choice_1_num)"
   ]
  },
  {
   "cell_type": "code",
   "execution_count": null,
   "id": "a2e51869",
   "metadata": {},
   "outputs": [],
   "source": []
  }
 ],
 "metadata": {
  "kernelspec": {
   "display_name": "Python 3 (ipykernel)",
   "language": "python",
   "name": "python3"
  },
  "language_info": {
   "codemirror_mode": {
    "name": "ipython",
    "version": 3
   },
   "file_extension": ".py",
   "mimetype": "text/x-python",
   "name": "python",
   "nbconvert_exporter": "python",
   "pygments_lexer": "ipython3",
   "version": "3.7.9"
  }
 },
 "nbformat": 4,
 "nbformat_minor": 5
}
